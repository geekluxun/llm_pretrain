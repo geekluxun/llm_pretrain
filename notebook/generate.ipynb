{
 "cells": [
  {
   "metadata": {
    "ExecuteTime": {
     "end_time": "2024-11-29T06:22:38.334843Z",
     "start_time": "2024-11-29T06:22:37.822776Z"
    }
   },
   "cell_type": "code",
   "source": [
    "import tiktoken\n",
    "import torch\n",
    "\n",
    "from train.generate import generate\n",
    "from utils.device import get_device"
   ],
   "id": "c9be870519f8b948",
   "outputs": [],
   "execution_count": 1
  },
  {
   "metadata": {
    "ExecuteTime": {
     "end_time": "2024-11-29T06:42:25.888387Z",
     "start_time": "2024-11-29T06:42:24.737933Z"
    }
   },
   "cell_type": "code",
   "source": [
    "from model.gpt_model import GPTModel\n",
    "from utils.token_util import text_to_token_ids, token_ids_to_text\n",
    "\n",
    "input_prompt = \"how are you!\"\n",
    "model_path = \"../.temp/gpt_model.pth\"\n",
    "\n",
    "torch.manual_seed(123)\n",
    "device = get_device()\n",
    "\n",
    "GPT_CONFIG_124M = {\n",
    "    \"vocab_size\": 50257,  # Vocabulary size\n",
    "    \"context_length\": 256,  # Shortened context length (orig: 1024)\n",
    "    \"emb_dim\": 768,  # Embedding dimension\n",
    "    \"n_heads\": 12,  # Number of attention heads\n",
    "    \"n_layers\": 12,  # Number of layers\n",
    "    \"drop_rate\": 0.1,  # Dropout rate\n",
    "    \"qkv_bias\": False  # Query-key-value bias\n",
    "}\n",
    "\n",
    "gpt_config = GPT_CONFIG_124M\n",
    "\n",
    "# settings, params = download_and_load_gpt2(model_size=model_size, models_dir=\"gpt2\")\n",
    "\n",
    "gpt = GPTModel(gpt_config)\n",
    "gpt.load_state_dict(torch.load(model_path, weights_only=True))\n",
    "\n",
    "# load_weights_into_gpt(gpt, params)\n",
    "gpt.to(device)\n",
    "gpt.eval()\n",
    "\n",
    "tokenizer = tiktoken.get_encoding(\"gpt2\")\n",
    "torch.manual_seed(123)\n",
    "\n",
    "token_ids = generate(\n",
    "    model=gpt,\n",
    "    idx=text_to_token_ids(input_prompt, tokenizer).to(device),\n",
    "    max_new_tokens=25,\n",
    "    context_size=gpt_config[\"context_length\"],\n",
    "    top_k=50,\n",
    "    temperature=1.0\n",
    ")\n",
    "\n",
    "print(\"Output text:\\n\", token_ids_to_text(token_ids, tokenizer))"
   ],
   "id": "initial_id",
   "outputs": [
    {
     "name": "stdout",
     "output_type": "stream",
     "text": [
      "Output text:\n",
      " how are you! She thought him go a little too? I had predicted, withac so--so it was so a year after Jack's\n"
     ]
    }
   ],
   "execution_count": 3
  },
  {
   "metadata": {},
   "cell_type": "code",
   "outputs": [],
   "execution_count": null,
   "source": "",
   "id": "f586ac31d2a78daa"
  }
 ],
 "metadata": {
  "kernelspec": {
   "display_name": "Python 3",
   "language": "python",
   "name": "python3"
  },
  "language_info": {
   "codemirror_mode": {
    "name": "ipython",
    "version": 2
   },
   "file_extension": ".py",
   "mimetype": "text/x-python",
   "name": "python",
   "nbconvert_exporter": "python",
   "pygments_lexer": "ipython2",
   "version": "2.7.6"
  }
 },
 "nbformat": 4,
 "nbformat_minor": 5
}
